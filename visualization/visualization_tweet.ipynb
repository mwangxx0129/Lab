{
 "cells": [
  {
   "cell_type": "code",
   "execution_count": 163,
   "metadata": {
    "collapsed": true
   },
   "outputs": [],
   "source": [
    "import plotly \n",
    "plotly.tools.set_credentials_file(username='xinxin.wang', api_key='1EZG6WwOuAin94XlkQiO')"
   ]
  },
  {
   "cell_type": "code",
   "execution_count": 182,
   "metadata": {},
   "outputs": [
    {
     "data": {
      "text/html": [
       "<iframe id=\"igraph\" scrolling=\"no\" style=\"border:none;\" seamless=\"seamless\" src=\"https://plot.ly/~xinxin.wang/34.embed\" height=\"525px\" width=\"100%\"></iframe>"
      ],
      "text/plain": [
       "<plotly.tools.PlotlyDisplay object>"
      ]
     },
     "execution_count": 182,
     "metadata": {},
     "output_type": "execute_result"
    }
   ],
   "source": [
    "import pandas as pd\n",
    "import numpy as np\n",
    "import plotly.plotly as py\n",
    "import plotly.graph_objs as go\n",
    "\n",
    "file = 'JaredDudley619_tweets.csv'\n",
    "file = 'TheBlurBarbosa_tweets.csv'\n",
    "# file = \"KingJames_tweets.csv\"\n",
    "# file = 'imanshumpert_tweets.csv'\n",
    "# file = 'Al_Horford_tweets.csv'\n",
    "\n",
    "file = 'andrewbogut_tweets.csv'\n",
    "file = 'JCrossover_tweets.csv'\n",
    "file = 'StephenCurry30_tweets.csv'\n",
    "file = 'JohnWall_tweets.csv'\n",
    "file = 'MrAnthonyMorrow_tweets.csv'\n",
    "\n",
    "file = 'tiagosplitter_tweets.csv'\n",
    "file = 'chrisbosh_tweets.csv'\n",
    "file = 'MGortat_tweets.csv'\n",
    "file = 'JJRedick_tweets.csv'\n",
    "file = 'KDTrey5_tweets.csv'\n",
    "\n",
    "file = 'jcraw55_tweets.csv'\n",
    "file = 'Jrue_Holiday11_tweets.csv'\n",
    "file = 'KyleKorver_tweets.csv'\n",
    "file = 'unclejeffgreen_tweets.csv'\n",
    "file = 'KyrieIrving_tweets.csv'\n",
    "\n",
    "df=pd.read_csv('./Downloads/Players/' + file, sep=',')\n",
    "csv_length = len(df)\n",
    "timeList = []\n",
    "for index in range(csv_length):\n",
    "    timeList.append(df.iloc[index,1])\n",
    "\n",
    "map = {}\n",
    "for index in range(len(timeList)):\n",
    "    year_month = timeList[index][0:7]\n",
    "    hour = timeList[index][11:13]\n",
    "    key = year_month + '_' +hour\n",
    "    if key not in map:\n",
    "        map[key] = 1 \n",
    "    else:\n",
    "        map[key] = map[key] + 1\n",
    "\n",
    "hours = []\n",
    "for index in range(0,24):\n",
    "    hours.append(('0' + str(index))[-2:])\n",
    "    \n",
    "hours_y = []\n",
    "for index in range(0,24):\n",
    "    hours_y.append(('0' + str(index))[-2:] + ':00')\n",
    "\n",
    "year_month_list = []\n",
    "for e in list(map.keys()):\n",
    "    if e[0:7] not in year_month_list:\n",
    "        year_month_list.append(e[0:7])\n",
    "\n",
    "z = []\n",
    "for hour in hours:\n",
    "    new_row = []\n",
    "    for year_month in year_month_list:\n",
    "        key = year_month + '_' + hour\n",
    "        if key in map:\n",
    "            new_row.append(map[key])\n",
    "        else:\n",
    "            new_row.append(0)\n",
    "    z.append(list(new_row))\n",
    "\n",
    "data = [\n",
    "    go.Heatmap(\n",
    "        z=z,\n",
    "        x=year_month_list,\n",
    "        y=hours_y,\n",
    "        colorscale=[[0.0,'#ffffff'], [1.0, '#1f1ff0']]\n",
    "    )\n",
    "]\n",
    "\n",
    "layout = go.Layout(\n",
    "    title= file[0:-4] + ' ' + 'Tweet posts year-month/hour',\n",
    "    xaxis = dict(ticks='year month', nticks=36),\n",
    "    yaxis = dict(ticks='' )\n",
    ")\n",
    "\n",
    "fig = go.Figure(data=data, layout=layout)\n",
    "py.iplot(fig, filename=file[0:-4] + '-heatmap')\n"
   ]
  },
  {
   "cell_type": "code",
   "execution_count": null,
   "metadata": {
    "collapsed": true
   },
   "outputs": [],
   "source": []
  }
 ],
 "metadata": {
  "kernelspec": {
   "display_name": "Python 3",
   "language": "python",
   "name": "python3"
  },
  "language_info": {
   "codemirror_mode": {
    "name": "ipython",
    "version": 3
   },
   "file_extension": ".py",
   "mimetype": "text/x-python",
   "name": "python",
   "nbconvert_exporter": "python",
   "pygments_lexer": "ipython3",
   "version": "3.6.3"
  }
 },
 "nbformat": 4,
 "nbformat_minor": 2
}
